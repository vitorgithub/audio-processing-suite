{
  "cells": [
    {
      "cell_type": "code",
      "execution_count": 1,
      "metadata": {
        "colab": {
          "base_uri": "https://localhost:8080/"
        },
        "id": "jX5uP_7nxtCp",
        "outputId": "031fc102-c833-4298-9dbb-4c646431c126"
      },
      "outputs": [
        {
          "output_type": "stream",
          "name": "stdout",
          "text": [
            "Requirement already satisfied: openai-whisper in /usr/local/lib/python3.10/dist-packages (20230918)\n",
            "Requirement already satisfied: triton==2.0.0 in /usr/local/lib/python3.10/dist-packages (from openai-whisper) (2.0.0)\n",
            "Requirement already satisfied: numba in /usr/local/lib/python3.10/dist-packages (from openai-whisper) (0.56.4)\n",
            "Requirement already satisfied: numpy in /usr/local/lib/python3.10/dist-packages (from openai-whisper) (1.23.5)\n",
            "Requirement already satisfied: torch in /usr/local/lib/python3.10/dist-packages (from openai-whisper) (2.0.1)\n",
            "Requirement already satisfied: tqdm in /usr/local/lib/python3.10/dist-packages (from openai-whisper) (4.66.1)\n",
            "Requirement already satisfied: more-itertools in /usr/local/lib/python3.10/dist-packages (from openai-whisper) (10.1.0)\n",
            "Requirement already satisfied: tiktoken==0.3.3 in /usr/local/lib/python3.10/dist-packages (from openai-whisper) (0.3.3)\n",
            "Requirement already satisfied: regex>=2022.1.18 in /usr/local/lib/python3.10/dist-packages (from tiktoken==0.3.3->openai-whisper) (2023.6.3)\n",
            "Requirement already satisfied: requests>=2.26.0 in /usr/local/lib/python3.10/dist-packages (from tiktoken==0.3.3->openai-whisper) (2.31.0)\n",
            "Requirement already satisfied: cmake in /usr/local/lib/python3.10/dist-packages (from triton==2.0.0->openai-whisper) (3.27.7)\n",
            "Requirement already satisfied: filelock in /usr/local/lib/python3.10/dist-packages (from triton==2.0.0->openai-whisper) (3.12.4)\n",
            "Requirement already satisfied: lit in /usr/local/lib/python3.10/dist-packages (from triton==2.0.0->openai-whisper) (17.0.4)\n",
            "Requirement already satisfied: llvmlite<0.40,>=0.39.0dev0 in /usr/local/lib/python3.10/dist-packages (from numba->openai-whisper) (0.39.1)\n",
            "Requirement already satisfied: setuptools in /usr/local/lib/python3.10/dist-packages (from numba->openai-whisper) (67.7.2)\n",
            "Requirement already satisfied: typing-extensions in /usr/local/lib/python3.10/dist-packages (from torch->openai-whisper) (4.5.0)\n",
            "Requirement already satisfied: sympy in /usr/local/lib/python3.10/dist-packages (from torch->openai-whisper) (1.12)\n",
            "Requirement already satisfied: networkx in /usr/local/lib/python3.10/dist-packages (from torch->openai-whisper) (3.2)\n",
            "Requirement already satisfied: jinja2 in /usr/local/lib/python3.10/dist-packages (from torch->openai-whisper) (3.1.2)\n",
            "Requirement already satisfied: nvidia-cuda-nvrtc-cu11==11.7.99 in /usr/local/lib/python3.10/dist-packages (from torch->openai-whisper) (11.7.99)\n",
            "Requirement already satisfied: nvidia-cuda-runtime-cu11==11.7.99 in /usr/local/lib/python3.10/dist-packages (from torch->openai-whisper) (11.7.99)\n",
            "Requirement already satisfied: nvidia-cuda-cupti-cu11==11.7.101 in /usr/local/lib/python3.10/dist-packages (from torch->openai-whisper) (11.7.101)\n",
            "Requirement already satisfied: nvidia-cudnn-cu11==8.5.0.96 in /usr/local/lib/python3.10/dist-packages (from torch->openai-whisper) (8.5.0.96)\n",
            "Requirement already satisfied: nvidia-cublas-cu11==11.10.3.66 in /usr/local/lib/python3.10/dist-packages (from torch->openai-whisper) (11.10.3.66)\n",
            "Requirement already satisfied: nvidia-cufft-cu11==10.9.0.58 in /usr/local/lib/python3.10/dist-packages (from torch->openai-whisper) (10.9.0.58)\n",
            "Requirement already satisfied: nvidia-curand-cu11==10.2.10.91 in /usr/local/lib/python3.10/dist-packages (from torch->openai-whisper) (10.2.10.91)\n",
            "Requirement already satisfied: nvidia-cusolver-cu11==11.4.0.1 in /usr/local/lib/python3.10/dist-packages (from torch->openai-whisper) (11.4.0.1)\n",
            "Requirement already satisfied: nvidia-cusparse-cu11==11.7.4.91 in /usr/local/lib/python3.10/dist-packages (from torch->openai-whisper) (11.7.4.91)\n",
            "Requirement already satisfied: nvidia-nccl-cu11==2.14.3 in /usr/local/lib/python3.10/dist-packages (from torch->openai-whisper) (2.14.3)\n",
            "Requirement already satisfied: nvidia-nvtx-cu11==11.7.91 in /usr/local/lib/python3.10/dist-packages (from torch->openai-whisper) (11.7.91)\n",
            "Requirement already satisfied: wheel in /usr/local/lib/python3.10/dist-packages (from nvidia-cublas-cu11==11.10.3.66->torch->openai-whisper) (0.41.2)\n",
            "Requirement already satisfied: charset-normalizer<4,>=2 in /usr/local/lib/python3.10/dist-packages (from requests>=2.26.0->tiktoken==0.3.3->openai-whisper) (3.3.1)\n",
            "Requirement already satisfied: idna<4,>=2.5 in /usr/local/lib/python3.10/dist-packages (from requests>=2.26.0->tiktoken==0.3.3->openai-whisper) (3.4)\n",
            "Requirement already satisfied: urllib3<3,>=1.21.1 in /usr/local/lib/python3.10/dist-packages (from requests>=2.26.0->tiktoken==0.3.3->openai-whisper) (2.0.7)\n",
            "Requirement already satisfied: certifi>=2017.4.17 in /usr/local/lib/python3.10/dist-packages (from requests>=2.26.0->tiktoken==0.3.3->openai-whisper) (2023.7.22)\n",
            "Requirement already satisfied: MarkupSafe>=2.0 in /usr/local/lib/python3.10/dist-packages (from jinja2->torch->openai-whisper) (2.1.3)\n",
            "Requirement already satisfied: mpmath>=0.19 in /usr/local/lib/python3.10/dist-packages (from sympy->torch->openai-whisper) (1.3.0)\n",
            "Requirement already satisfied: pydub in /usr/local/lib/python3.10/dist-packages (0.25.1)\n",
            "Requirement already satisfied: psutil in /usr/local/lib/python3.10/dist-packages (5.9.5)\n",
            "Requirement already satisfied: ffmpeg in /usr/local/lib/python3.10/dist-packages (1.4)\n"
          ]
        }
      ],
      "source": [
        "!pip install openai-whisper --no-cache-dir\n",
        "!pip install pydub\n",
        "!pip install psutil\n",
        "!pip install ffmpeg\n",
        "\n",
        "\n",
        "import os\n",
        "import whisper\n",
        "import gc\n",
        "from pydub import AudioSegment\n",
        "import tempfile\n",
        "import psutil\n",
        "import time\n",
        "from google.colab import drive\n",
        "import shutil"
      ]
    },
    {
      "cell_type": "code",
      "execution_count": null,
      "metadata": {
        "colab": {
          "base_uri": "https://localhost:8080/"
        },
        "id": "MfIXGXk2x3Pn",
        "outputId": "eab22801-d069-4f89-b0da-c1f3fd6b855c"
      },
      "outputs": [
        {
          "output_type": "stream",
          "name": "stdout",
          "text": [
            "Drive already mounted at /content/drive; to attempt to forcibly remount, call drive.mount(\"/content/drive\", force_remount=True).\n"
          ]
        },
        {
          "output_type": "stream",
          "name": "stderr",
          "text": [
            "/usr/local/lib/python3.10/dist-packages/whisper/transcribe.py:114: UserWarning: FP16 is not supported on CPU; using FP32 instead\n",
            "  warnings.warn(\"FP16 is not supported on CPU; using FP32 instead\")\n"
          ]
        }
      ],
      "source": [
        "def transcribe_audio(model, file_name, output_file, max_attempts=3, delay_between_attempts=5):\n",
        "    attempt = 0\n",
        "    while attempt < max_attempts:\n",
        "        try:\n",
        "            result = model.transcribe(file_name, language=\"Portuguese\")\n",
        "            transcribed_text = result[\"text\"]\n",
        "            with open(output_file, 'w', encoding='utf-8') as f_out:\n",
        "                f_out.write(transcribed_text)\n",
        "            return output_file, os.path.getsize(file_name)\n",
        "        except Exception as e:\n",
        "            attempt += 1\n",
        "            print(f\"Erro ao transcrever o arquivo {file_name} na tentativa {attempt}. Erro: {e}\")\n",
        "            if attempt < max_attempts:\n",
        "                print(f\"Aguardando {delay_between_attempts} segundos antes da próxima tentativa...\")\n",
        "                time.sleep(delay_between_attempts)\n",
        "            else:\n",
        "                print(f\"Erro ao transcrever o arquivo após {max_attempts} tentativas. Pulando...\")\n",
        "                return None, 0\n",
        "\n",
        "def main():\n",
        "    drive.mount('/content/drive')\n",
        "    drive_base_folder = \"/content/drive/My Drive/Transcriptions\"\n",
        "    model = whisper.load_model(\"large\")\n",
        "    root_dir = \"./sample_data/sections\"\n",
        "\n",
        "    if not os.path.exists(root_dir):\n",
        "        os.makedirs(root_dir)\n",
        "\n",
        "    total_files = count_total_files(root_dir)\n",
        "    audio_weight_total = calculate_total_audio_weight(root_dir)\n",
        "    completed_files = 0\n",
        "    audio_weight_transcribed = 0\n",
        "    processed_files = set()\n",
        "\n",
        "    for subdir in os.listdir(root_dir):\n",
        "        subdir_path = os.path.join(root_dir, subdir)\n",
        "        if os.path.isdir(subdir_path):\n",
        "            for file_name in os.listdir(subdir_path):\n",
        "                if file_name.endswith(\".mp3\"):\n",
        "                    input_file = os.path.join(subdir_path, file_name)\n",
        "                    base_name = os.path.splitext(file_name)[0]\n",
        "                    output_file = os.path.join(subdir_path, f\"{base_name}.txt\")\n",
        "\n",
        "                    if base_name not in processed_files:\n",
        "                        transcription_path, new_weight = transcribe_audio(model, input_file, output_file)\n",
        "                        if transcription_path:\n",
        "                            upload_file_to_drive(transcription_path, root_dir, drive_base_folder)\n",
        "                            audio_weight_transcribed += new_weight\n",
        "                            progress = (audio_weight_transcribed / audio_weight_total) * 100\n",
        "                            print(f\"Progresso: {progress:.2f}%, {completed_files + 1}/{total_files} arquivos transcritos\")\n",
        "                            completed_files += 1\n",
        "                            processed_files.add(base_name)\n",
        "                            with open(\"transcription_log.txt\", \"a\") as log_file:\n",
        "                                log_file.write(f\"Transcrição completa para o arquivo: {input_file}\\n\")\n",
        "\n",
        "                        mem = psutil.virtual_memory()\n",
        "                        while mem.available < 1 * (1024 ** 3):\n",
        "                            print(f\"Memória baixa ({mem.available / (1024.0 ** 3):.2f} GB). Esperando...\")\n",
        "                            time.sleep(10)\n",
        "                            mem = psutil.virtual_memory()\n",
        "\n",
        "def upload_file_to_drive(filepath, root_dir, drive_base_folder):\n",
        "    relative_path = os.path.relpath(filepath, root_dir)\n",
        "    drive_dest_path = os.path.join(drive_base_folder, relative_path)\n",
        "    drive_dest_dir = os.path.dirname(drive_dest_path)\n",
        "    if not os.path.exists(drive_dest_dir):\n",
        "        os.makedirs(drive_dest_dir)\n",
        "    shutil.copy(filepath, drive_dest_path)\n",
        "    os.remove(filepath)\n",
        "\n",
        "def count_total_files(directory):\n",
        "    total_files = 0\n",
        "    for root, _, files in os.walk(directory):\n",
        "        total_files += sum(1 for file in files if file.endswith('.mp3'))\n",
        "    return total_files\n",
        "\n",
        "def calculate_total_audio_weight(root_dir):\n",
        "    total_audio_weight = 0\n",
        "    for subdir in os.listdir(root_dir):\n",
        "        subdir_path = os.path.join(root_dir, subdir)\n",
        "        if os.path.isdir(subdir_path):\n",
        "            for file_name in os.listdir(subdir_path):\n",
        "                if file_name.endswith(\".mp3\"):\n",
        "                    input_file = os.path.join(subdir_path, file_name)\n",
        "                    file_weight = os.path.getsize(input_file)\n",
        "                    total_audio_weight += file_weight\n",
        "    return total_audio_weight\n",
        "\n",
        "if __name__ == \"__main__\":\n",
        "    main()\n"
      ]
    }
  ],
  "metadata": {
    "accelerator": "GPU",
    "colab": {
      "provenance": []
    },
    "kernelspec": {
      "display_name": "Python 3",
      "name": "python3"
    },
    "language_info": {
      "name": "python"
    }
  },
  "nbformat": 4,
  "nbformat_minor": 0
}